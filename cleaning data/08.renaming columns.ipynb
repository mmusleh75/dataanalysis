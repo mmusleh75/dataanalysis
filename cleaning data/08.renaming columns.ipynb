{
 "cells": [
  {
   "cell_type": "code",
   "execution_count": 1,
   "metadata": {},
   "outputs": [],
   "source": [
    "import pandas as pd"
   ]
  },
  {
   "cell_type": "code",
   "execution_count": 2,
   "metadata": {},
   "outputs": [],
   "source": [
    "data = pd.read_csv(\"content/artwork_sample.csv\")"
   ]
  },
  {
   "cell_type": "code",
   "execution_count": 3,
   "metadata": {},
   "outputs": [
    {
     "data": {
      "text/html": [
       "<div>\n",
       "<style scoped>\n",
       "    .dataframe tbody tr th:only-of-type {\n",
       "        vertical-align: middle;\n",
       "    }\n",
       "\n",
       "    .dataframe tbody tr th {\n",
       "        vertical-align: top;\n",
       "    }\n",
       "\n",
       "    .dataframe thead th {\n",
       "        text-align: right;\n",
       "    }\n",
       "</style>\n",
       "<table border=\"1\" class=\"dataframe\">\n",
       "  <thead>\n",
       "    <tr style=\"text-align: right;\">\n",
       "      <th></th>\n",
       "      <th>id</th>\n",
       "      <th>accession_number</th>\n",
       "      <th>artist</th>\n",
       "      <th>artistRole</th>\n",
       "      <th>artistId</th>\n",
       "      <th>title</th>\n",
       "      <th>dateText</th>\n",
       "      <th>medium</th>\n",
       "      <th>creditLine</th>\n",
       "      <th>year</th>\n",
       "      <th>acquisitionYear</th>\n",
       "      <th>dimensions</th>\n",
       "      <th>width</th>\n",
       "      <th>height</th>\n",
       "      <th>depth</th>\n",
       "      <th>units</th>\n",
       "      <th>inscription</th>\n",
       "      <th>thumbnailCopyright</th>\n",
       "      <th>thumbnailUrl</th>\n",
       "      <th>url</th>\n",
       "    </tr>\n",
       "  </thead>\n",
       "  <tbody>\n",
       "    <tr>\n",
       "      <th>0</th>\n",
       "      <td>1035</td>\n",
       "      <td>A00001</td>\n",
       "      <td>Blake, Robert</td>\n",
       "      <td>artist</td>\n",
       "      <td>38</td>\n",
       "      <td>A Figure Bowing before a Seated Old Man with h...</td>\n",
       "      <td>date not known</td>\n",
       "      <td>Watercolour, ink, chalk and graphite on paper....</td>\n",
       "      <td>Presented by Mrs John Richmond 1922</td>\n",
       "      <td>NaN</td>\n",
       "      <td>1922</td>\n",
       "      <td>support: 394 x 419 mm</td>\n",
       "      <td>394</td>\n",
       "      <td>419</td>\n",
       "      <td>NaN</td>\n",
       "      <td>mm</td>\n",
       "      <td>NaN</td>\n",
       "      <td>NaN</td>\n",
       "      <td>http://www.tate.org.uk/art/images/work/A/A00/A...</td>\n",
       "      <td>http://www.tate.org.uk/art/artworks/blake-a-fi...</td>\n",
       "    </tr>\n",
       "    <tr>\n",
       "      <th>1</th>\n",
       "      <td>1036</td>\n",
       "      <td>A00002</td>\n",
       "      <td>Blake, Robert</td>\n",
       "      <td>artist</td>\n",
       "      <td>38</td>\n",
       "      <td>Two Drawings of Frightened Figures, Probably f...</td>\n",
       "      <td>date not known</td>\n",
       "      <td>Graphite on paper</td>\n",
       "      <td>Presented by Mrs John Richmond 1922</td>\n",
       "      <td>NaN</td>\n",
       "      <td>1922</td>\n",
       "      <td>support: 311 x 213 mm</td>\n",
       "      <td>311</td>\n",
       "      <td>213</td>\n",
       "      <td>NaN</td>\n",
       "      <td>mm</td>\n",
       "      <td>NaN</td>\n",
       "      <td>NaN</td>\n",
       "      <td>http://www.tate.org.uk/art/images/work/A/A00/A...</td>\n",
       "      <td>http://www.tate.org.uk/art/artworks/blake-two-...</td>\n",
       "    </tr>\n",
       "    <tr>\n",
       "      <th>2</th>\n",
       "      <td>1037</td>\n",
       "      <td>A00003</td>\n",
       "      <td>Blake, Robert</td>\n",
       "      <td>artist</td>\n",
       "      <td>38</td>\n",
       "      <td>The Preaching of Warning. Verso: An Old Man En...</td>\n",
       "      <td>?c.1785</td>\n",
       "      <td>Graphite on paper. Verso: graphite on paper</td>\n",
       "      <td>Presented by Mrs John Richmond 1922</td>\n",
       "      <td>1785.0</td>\n",
       "      <td>1922</td>\n",
       "      <td>support: 343 x 467 mm</td>\n",
       "      <td>343</td>\n",
       "      <td>467</td>\n",
       "      <td>NaN</td>\n",
       "      <td>mm</td>\n",
       "      <td>NaN</td>\n",
       "      <td>NaN</td>\n",
       "      <td>http://www.tate.org.uk/art/images/work/A/A00/A...</td>\n",
       "      <td>http://www.tate.org.uk/art/artworks/blake-the-...</td>\n",
       "    </tr>\n",
       "    <tr>\n",
       "      <th>3</th>\n",
       "      <td>1038</td>\n",
       "      <td>A00004</td>\n",
       "      <td>Blake, Robert</td>\n",
       "      <td>artist</td>\n",
       "      <td>38</td>\n",
       "      <td>Six Drawings of Figures with Outstretched Arms</td>\n",
       "      <td>date not known</td>\n",
       "      <td>Graphite on paper</td>\n",
       "      <td>Presented by Mrs John Richmond 1922</td>\n",
       "      <td>NaN</td>\n",
       "      <td>1922</td>\n",
       "      <td>support: 318 x 394 mm</td>\n",
       "      <td>318</td>\n",
       "      <td>394</td>\n",
       "      <td>NaN</td>\n",
       "      <td>mm</td>\n",
       "      <td>NaN</td>\n",
       "      <td>NaN</td>\n",
       "      <td>http://www.tate.org.uk/art/images/work/A/A00/A...</td>\n",
       "      <td>http://www.tate.org.uk/art/artworks/blake-six-...</td>\n",
       "    </tr>\n",
       "    <tr>\n",
       "      <th>4</th>\n",
       "      <td>1039</td>\n",
       "      <td>A00005</td>\n",
       "      <td>Blake, William</td>\n",
       "      <td>artist</td>\n",
       "      <td>39</td>\n",
       "      <td>The Circle of the Lustful: Francesca da Rimini...</td>\n",
       "      <td>1826–7, reprinted 1892</td>\n",
       "      <td>Line engraving on paper</td>\n",
       "      <td>Purchased with the assistance of a special gra...</td>\n",
       "      <td>1826.0</td>\n",
       "      <td>1919</td>\n",
       "      <td>image: 243 x 335 mm</td>\n",
       "      <td>243</td>\n",
       "      <td>335</td>\n",
       "      <td>NaN</td>\n",
       "      <td>mm</td>\n",
       "      <td>NaN</td>\n",
       "      <td>NaN</td>\n",
       "      <td>http://www.tate.org.uk/art/images/work/A/A00/A...</td>\n",
       "      <td>http://www.tate.org.uk/art/artworks/blake-the-...</td>\n",
       "    </tr>\n",
       "  </tbody>\n",
       "</table>\n",
       "</div>"
      ],
      "text/plain": [
       "     id accession_number          artist artistRole  artistId  \\\n",
       "0  1035           A00001   Blake, Robert     artist        38   \n",
       "1  1036           A00002   Blake, Robert     artist        38   \n",
       "2  1037           A00003   Blake, Robert     artist        38   \n",
       "3  1038           A00004   Blake, Robert     artist        38   \n",
       "4  1039           A00005  Blake, William     artist        39   \n",
       "\n",
       "                                               title                dateText  \\\n",
       "0  A Figure Bowing before a Seated Old Man with h...          date not known   \n",
       "1  Two Drawings of Frightened Figures, Probably f...          date not known   \n",
       "2  The Preaching of Warning. Verso: An Old Man En...                 ?c.1785   \n",
       "3     Six Drawings of Figures with Outstretched Arms          date not known   \n",
       "4  The Circle of the Lustful: Francesca da Rimini...  1826–7, reprinted 1892   \n",
       "\n",
       "                                              medium  \\\n",
       "0  Watercolour, ink, chalk and graphite on paper....   \n",
       "1                                  Graphite on paper   \n",
       "2        Graphite on paper. Verso: graphite on paper   \n",
       "3                                  Graphite on paper   \n",
       "4                            Line engraving on paper   \n",
       "\n",
       "                                          creditLine    year  acquisitionYear  \\\n",
       "0                Presented by Mrs John Richmond 1922     NaN             1922   \n",
       "1                Presented by Mrs John Richmond 1922     NaN             1922   \n",
       "2                Presented by Mrs John Richmond 1922  1785.0             1922   \n",
       "3                Presented by Mrs John Richmond 1922     NaN             1922   \n",
       "4  Purchased with the assistance of a special gra...  1826.0             1919   \n",
       "\n",
       "              dimensions  width  height  depth units  inscription  \\\n",
       "0  support: 394 x 419 mm    394     419    NaN    mm          NaN   \n",
       "1  support: 311 x 213 mm    311     213    NaN    mm          NaN   \n",
       "2  support: 343 x 467 mm    343     467    NaN    mm          NaN   \n",
       "3  support: 318 x 394 mm    318     394    NaN    mm          NaN   \n",
       "4    image: 243 x 335 mm    243     335    NaN    mm          NaN   \n",
       "\n",
       "   thumbnailCopyright                                       thumbnailUrl  \\\n",
       "0                 NaN  http://www.tate.org.uk/art/images/work/A/A00/A...   \n",
       "1                 NaN  http://www.tate.org.uk/art/images/work/A/A00/A...   \n",
       "2                 NaN  http://www.tate.org.uk/art/images/work/A/A00/A...   \n",
       "3                 NaN  http://www.tate.org.uk/art/images/work/A/A00/A...   \n",
       "4                 NaN  http://www.tate.org.uk/art/images/work/A/A00/A...   \n",
       "\n",
       "                                                 url  \n",
       "0  http://www.tate.org.uk/art/artworks/blake-a-fi...  \n",
       "1  http://www.tate.org.uk/art/artworks/blake-two-...  \n",
       "2  http://www.tate.org.uk/art/artworks/blake-the-...  \n",
       "3  http://www.tate.org.uk/art/artworks/blake-six-...  \n",
       "4  http://www.tate.org.uk/art/artworks/blake-the-...  "
      ]
     },
     "execution_count": 3,
     "metadata": {},
     "output_type": "execute_result"
    }
   ],
   "source": [
    "data.head()"
   ]
  },
  {
   "cell_type": "code",
   "execution_count": 4,
   "metadata": {},
   "outputs": [
    {
     "data": {
      "text/plain": [
       "Index(['id', 'accession_number', 'artist', 'artistRole', 'artistId', 'title',\n",
       "       'dateText', 'medium', 'creditLine', 'year', 'acquisitionYear',\n",
       "       'dimensions', 'width', 'height', 'depth', 'units', 'inscription',\n",
       "       'thumbnailCopyright', 'thumbnailUrl', 'url'],\n",
       "      dtype='object')"
      ]
     },
     "execution_count": 4,
     "metadata": {},
     "output_type": "execute_result"
    }
   ],
   "source": [
    "# view the column names\n",
    "data.columns"
   ]
  },
  {
   "cell_type": "code",
   "execution_count": 5,
   "metadata": {},
   "outputs": [
    {
     "data": {
      "text/plain": [
       "Index(['id', 'accession_number', 'artist', 'artistrole', 'artistid', 'title',\n",
       "       'datetext', 'medium', 'creditline', 'year', 'acquisitionyear',\n",
       "       'dimensions', 'width', 'height', 'depth', 'units', 'inscription',\n",
       "       'thumbnailcopyright', 'thumbnailurl', 'url'],\n",
       "      dtype='object')"
      ]
     },
     "execution_count": 5,
     "metadata": {},
     "output_type": "execute_result"
    }
   ],
   "source": [
    "data.columns.str.lower()"
   ]
  },
  {
   "cell_type": "code",
   "execution_count": 7,
   "metadata": {},
   "outputs": [
    {
     "data": {
      "text/plain": [
       "['id',\n",
       " 'accession_number',\n",
       " 'artist',\n",
       " 'artistrole',\n",
       " 'artistid',\n",
       " 'title',\n",
       " 'datetext',\n",
       " 'medium',\n",
       " 'creditline',\n",
       " 'year',\n",
       " 'acquisitionyear',\n",
       " 'dimensions',\n",
       " 'width',\n",
       " 'height',\n",
       " 'depth',\n",
       " 'units',\n",
       " 'inscription',\n",
       " 'thumbnailcopyright',\n",
       " 'thumbnailurl',\n",
       " 'url']"
      ]
     },
     "execution_count": 7,
     "metadata": {},
     "output_type": "execute_result"
    }
   ],
   "source": [
    "# use a loop\n",
    "[x.lower() for x in data.columns]"
   ]
  },
  {
   "cell_type": "code",
   "execution_count": 8,
   "metadata": {},
   "outputs": [
    {
     "data": {
      "text/plain": [
       "Index(['id', 'accession_number', 'artist', 'artistRole', 'artistId', 'title',\n",
       "       'dateText', 'medium', 'creditLine', 'year', 'acquisitionYear',\n",
       "       'dimensions', 'width', 'height', 'depth', 'units', 'inscription',\n",
       "       'thumbnailCopyright', 'thumbnailUrl', 'url'],\n",
       "      dtype='object')"
      ]
     },
     "execution_count": 8,
     "metadata": {},
     "output_type": "execute_result"
    }
   ],
   "source": [
    "# original column names still did not change!\n",
    "data.columns"
   ]
  },
  {
   "cell_type": "code",
   "execution_count": 9,
   "metadata": {},
   "outputs": [],
   "source": [
    "# persist the column name change\n",
    "data.columns = [x.lower() for x in data.columns]"
   ]
  },
  {
   "cell_type": "code",
   "execution_count": 11,
   "metadata": {},
   "outputs": [
    {
     "data": {
      "text/plain": [
       "Index(['id', 'accession_number', 'artist', 'artistrole', 'artistid', 'title',\n",
       "       'datetext', 'medium', 'creditline', 'year', 'acquisitionyear',\n",
       "       'dimensions', 'width', 'height', 'depth', 'units', 'inscription',\n",
       "       'thumbnailcopyright', 'thumbnailurl', 'url'],\n",
       "      dtype='object')"
      ]
     },
     "execution_count": 11,
     "metadata": {},
     "output_type": "execute_result"
    }
   ],
   "source": [
    "data.columns"
   ]
  },
  {
   "cell_type": "code",
   "execution_count": 12,
   "metadata": {},
   "outputs": [],
   "source": [
    "# or use map function to change column case\n",
    "data = pd.read_csv(\"content/artwork_sample.csv\")"
   ]
  },
  {
   "cell_type": "code",
   "execution_count": 13,
   "metadata": {},
   "outputs": [],
   "source": [
    "data.columns = map(lambda x: x.lower(), data.columns)"
   ]
  },
  {
   "cell_type": "code",
   "execution_count": 14,
   "metadata": {},
   "outputs": [
    {
     "data": {
      "text/plain": [
       "Index(['id', 'accession_number', 'artist', 'artistrole', 'artistid', 'title',\n",
       "       'datetext', 'medium', 'creditline', 'year', 'acquisitionyear',\n",
       "       'dimensions', 'width', 'height', 'depth', 'units', 'inscription',\n",
       "       'thumbnailcopyright', 'thumbnailurl', 'url'],\n",
       "      dtype='object')"
      ]
     },
     "execution_count": 14,
     "metadata": {},
     "output_type": "execute_result"
    }
   ],
   "source": [
    "data.columns"
   ]
  },
  {
   "cell_type": "code",
   "execution_count": null,
   "metadata": {},
   "outputs": [],
   "source": []
  }
 ],
 "metadata": {
  "kernelspec": {
   "display_name": "Python 3",
   "language": "python",
   "name": "python3"
  },
  "language_info": {
   "codemirror_mode": {
    "name": "ipython",
    "version": 3
   },
   "file_extension": ".py",
   "mimetype": "text/x-python",
   "name": "python",
   "nbconvert_exporter": "python",
   "pygments_lexer": "ipython3",
   "version": "3.7.1"
  }
 },
 "nbformat": 4,
 "nbformat_minor": 4
}
