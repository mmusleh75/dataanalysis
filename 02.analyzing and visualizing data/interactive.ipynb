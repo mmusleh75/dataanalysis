{
 "cells": [
  {
   "cell_type": "code",
   "execution_count": 1,
   "metadata": {},
   "outputs": [
    {
     "name": "stdout",
     "output_type": "stream",
     "text": [
      "Requirement already satisfied: ipywidgets in /Users/mh067948/miniconda3/lib/python3.7/site-packages (7.5.0)\n",
      "Requirement already satisfied: ipykernel>=4.5.1 in /Users/mh067948/miniconda3/lib/python3.7/site-packages (from ipywidgets) (5.1.1)\n",
      "Requirement already satisfied: ipython>=4.0.0 in /Users/mh067948/miniconda3/lib/python3.7/site-packages (from ipywidgets) (7.6.1)\n",
      "Requirement already satisfied: widgetsnbextension~=3.5.0 in /Users/mh067948/miniconda3/lib/python3.7/site-packages (from ipywidgets) (3.5.0)\n",
      "Requirement already satisfied: traitlets>=4.3.1 in /Users/mh067948/miniconda3/lib/python3.7/site-packages (from ipywidgets) (4.3.2)\n",
      "Requirement already satisfied: nbformat>=4.2.0 in /Users/mh067948/miniconda3/lib/python3.7/site-packages (from ipywidgets) (4.4.0)\n",
      "Requirement already satisfied: tornado>=4.2 in /Users/mh067948/miniconda3/lib/python3.7/site-packages (from ipykernel>=4.5.1->ipywidgets) (6.1)\n",
      "Requirement already satisfied: jupyter-client in /Users/mh067948/miniconda3/lib/python3.7/site-packages (from ipykernel>=4.5.1->ipywidgets) (7.1.0)\n",
      "Requirement already satisfied: appnope in /Users/mh067948/miniconda3/lib/python3.7/site-packages (from ipython>=4.0.0->ipywidgets) (0.1.0)\n",
      "Requirement already satisfied: backcall in /Users/mh067948/miniconda3/lib/python3.7/site-packages (from ipython>=4.0.0->ipywidgets) (0.1.0)\n",
      "Requirement already satisfied: prompt-toolkit<2.1.0,>=2.0.0 in /Users/mh067948/miniconda3/lib/python3.7/site-packages (from ipython>=4.0.0->ipywidgets) (2.0.9)\n",
      "Requirement already satisfied: jedi>=0.10 in /Users/mh067948/miniconda3/lib/python3.7/site-packages (from ipython>=4.0.0->ipywidgets) (0.14.0)\n",
      "Requirement already satisfied: pickleshare in /Users/mh067948/miniconda3/lib/python3.7/site-packages (from ipython>=4.0.0->ipywidgets) (0.7.5)\n",
      "Requirement already satisfied: pexpect in /Users/mh067948/miniconda3/lib/python3.7/site-packages (from ipython>=4.0.0->ipywidgets) (4.7.0)\n",
      "Requirement already satisfied: pygments in /Users/mh067948/miniconda3/lib/python3.7/site-packages (from ipython>=4.0.0->ipywidgets) (2.4.2)\n",
      "Requirement already satisfied: decorator in /Users/mh067948/miniconda3/lib/python3.7/site-packages (from ipython>=4.0.0->ipywidgets) (4.3.2)\n",
      "Requirement already satisfied: setuptools>=18.5 in /Users/mh067948/miniconda3/lib/python3.7/site-packages (from ipython>=4.0.0->ipywidgets) (40.6.3)\n",
      "Requirement already satisfied: ipython-genutils in /Users/mh067948/miniconda3/lib/python3.7/site-packages (from nbformat>=4.2.0->ipywidgets) (0.2.0)\n",
      "Requirement already satisfied: jupyter-core in /Users/mh067948/miniconda3/lib/python3.7/site-packages (from nbformat>=4.2.0->ipywidgets) (4.9.1)\n",
      "Requirement already satisfied: jsonschema!=2.5.0,>=2.4 in /Users/mh067948/miniconda3/lib/python3.7/site-packages (from nbformat>=4.2.0->ipywidgets) (3.0.1)\n",
      "Requirement already satisfied: six in /Users/mh067948/miniconda3/lib/python3.7/site-packages (from traitlets>=4.3.1->ipywidgets) (1.12.0)\n",
      "Requirement already satisfied: notebook>=4.4.1 in /Users/mh067948/miniconda3/lib/python3.7/site-packages (from widgetsnbextension~=3.5.0->ipywidgets) (5.7.8)\n",
      "Requirement already satisfied: parso>=0.3.0 in /Users/mh067948/miniconda3/lib/python3.7/site-packages (from jedi>=0.10->ipython>=4.0.0->ipywidgets) (0.5.0)\n",
      "Requirement already satisfied: pyrsistent>=0.14.0 in /Users/mh067948/miniconda3/lib/python3.7/site-packages (from jsonschema!=2.5.0,>=2.4->nbformat>=4.2.0->ipywidgets) (0.14.11)\n",
      "Requirement already satisfied: attrs>=17.4.0 in /Users/mh067948/miniconda3/lib/python3.7/site-packages (from jsonschema!=2.5.0,>=2.4->nbformat>=4.2.0->ipywidgets) (19.1.0)\n",
      "Requirement already satisfied: prometheus-client in /Users/mh067948/miniconda3/lib/python3.7/site-packages (from notebook>=4.4.1->widgetsnbextension~=3.5.0->ipywidgets) (0.7.1)\n",
      "Requirement already satisfied: Send2Trash in /Users/mh067948/miniconda3/lib/python3.7/site-packages (from notebook>=4.4.1->widgetsnbextension~=3.5.0->ipywidgets) (1.5.0)\n",
      "Requirement already satisfied: pyzmq>=17 in /Users/mh067948/miniconda3/lib/python3.7/site-packages (from notebook>=4.4.1->widgetsnbextension~=3.5.0->ipywidgets) (18.0.2)\n",
      "Requirement already satisfied: terminado>=0.8.1 in /Users/mh067948/miniconda3/lib/python3.7/site-packages (from notebook>=4.4.1->widgetsnbextension~=3.5.0->ipywidgets) (0.12.1)\n",
      "Requirement already satisfied: jinja2 in /Users/mh067948/miniconda3/lib/python3.7/site-packages (from notebook>=4.4.1->widgetsnbextension~=3.5.0->ipywidgets) (2.10.1)\n",
      "Requirement already satisfied: nbconvert in /Users/mh067948/miniconda3/lib/python3.7/site-packages (from notebook>=4.4.1->widgetsnbextension~=3.5.0->ipywidgets) (5.5.0)\n",
      "Requirement already satisfied: python-dateutil>=2.1 in /Users/mh067948/miniconda3/lib/python3.7/site-packages (from jupyter-client->ipykernel>=4.5.1->ipywidgets) (2.8.2)\n",
      "Requirement already satisfied: nest-asyncio>=1.5 in /Users/mh067948/miniconda3/lib/python3.7/site-packages (from jupyter-client->ipykernel>=4.5.1->ipywidgets) (1.5.1)\n",
      "Requirement already satisfied: entrypoints in /Users/mh067948/miniconda3/lib/python3.7/site-packages (from jupyter-client->ipykernel>=4.5.1->ipywidgets) (0.3)\n",
      "Requirement already satisfied: wcwidth in /Users/mh067948/miniconda3/lib/python3.7/site-packages (from prompt-toolkit<2.1.0,>=2.0.0->ipython>=4.0.0->ipywidgets) (0.1.7)\n",
      "Requirement already satisfied: ptyprocess>=0.5 in /Users/mh067948/miniconda3/lib/python3.7/site-packages (from pexpect->ipython>=4.0.0->ipywidgets) (0.6.0)\n",
      "Requirement already satisfied: MarkupSafe>=0.23 in /Users/mh067948/miniconda3/lib/python3.7/site-packages (from jinja2->notebook>=4.4.1->widgetsnbextension~=3.5.0->ipywidgets) (1.1.1)\n",
      "Requirement already satisfied: defusedxml in /Users/mh067948/miniconda3/lib/python3.7/site-packages (from nbconvert->notebook>=4.4.1->widgetsnbextension~=3.5.0->ipywidgets) (0.6.0)\n",
      "Requirement already satisfied: testpath in /Users/mh067948/miniconda3/lib/python3.7/site-packages (from nbconvert->notebook>=4.4.1->widgetsnbextension~=3.5.0->ipywidgets) (0.4.2)\n",
      "Requirement already satisfied: mistune>=0.8.1 in /Users/mh067948/miniconda3/lib/python3.7/site-packages (from nbconvert->notebook>=4.4.1->widgetsnbextension~=3.5.0->ipywidgets) (0.8.4)\n",
      "Requirement already satisfied: pandocfilters>=1.4.1 in /Users/mh067948/miniconda3/lib/python3.7/site-packages (from nbconvert->notebook>=4.4.1->widgetsnbextension~=3.5.0->ipywidgets) (1.4.2)\n",
      "Requirement already satisfied: bleach in /Users/mh067948/miniconda3/lib/python3.7/site-packages (from nbconvert->notebook>=4.4.1->widgetsnbextension~=3.5.0->ipywidgets) (3.1.0)\n",
      "Requirement already satisfied: webencodings in /Users/mh067948/miniconda3/lib/python3.7/site-packages (from bleach->nbconvert->notebook>=4.4.1->widgetsnbextension~=3.5.0->ipywidgets) (0.5.1)\n"
     ]
    }
   ],
   "source": [
    "!pip install ipywidgets"
   ]
  },
  {
   "cell_type": "code",
   "execution_count": 3,
   "metadata": {},
   "outputs": [
    {
     "name": "stdout",
     "output_type": "stream",
     "text": [
      "Enabling notebook extension jupyter-js-widgets/extension...\n",
      "      - Validating: \u001b[32mOK\u001b[0m\n"
     ]
    }
   ],
   "source": [
    "!jupyter nbextension enable --py widgetsnbextension --sys-prefix"
   ]
  },
  {
   "cell_type": "code",
   "execution_count": 17,
   "metadata": {},
   "outputs": [],
   "source": [
    "from ipywidgets import interact, interactive, fixed, interact_manual\n",
    "\n",
    "import ipywidgets as widgets"
   ]
  },
  {
   "cell_type": "code",
   "execution_count": 18,
   "metadata": {},
   "outputs": [],
   "source": [
    "w = widgets.IntSlider(value = 10,\n",
    "                     min = 5,\n",
    "                     max = 20,\n",
    "                     step = 1,\n",
    "                     description = 'Range slider:',\n",
    "                     continuous_update=False,\n",
    "                     orientation='horizontal')"
   ]
  },
  {
   "cell_type": "code",
   "execution_count": 19,
   "metadata": {},
   "outputs": [
    {
     "data": {
      "application/vnd.jupyter.widget-view+json": {
       "model_id": "b29b72215c80437fbe298604b6d8a2ef",
       "version_major": 2,
       "version_minor": 0
      },
      "text/plain": [
       "IntSlider(value=10, continuous_update=False, description='Range slider:', max=20, min=5)"
      ]
     },
     "metadata": {},
     "output_type": "display_data"
    }
   ],
   "source": [
    "w"
   ]
  },
  {
   "cell_type": "code",
   "execution_count": null,
   "metadata": {
    "slideshow": {
     "slide_type": "skip"
    },
    "tags": []
   },
   "outputs": [],
   "source": []
  }
 ],
 "metadata": {
  "kernelspec": {
   "display_name": "Python 3",
   "language": "python",
   "name": "python3"
  },
  "language_info": {
   "codemirror_mode": {
    "name": "ipython",
    "version": 3
   },
   "file_extension": ".py",
   "mimetype": "text/x-python",
   "name": "python",
   "nbconvert_exporter": "python",
   "pygments_lexer": "ipython3",
   "version": "3.7.1"
  }
 },
 "nbformat": 4,
 "nbformat_minor": 4
}
