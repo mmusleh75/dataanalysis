{
 "cells": [
  {
   "cell_type": "code",
   "execution_count": 1,
   "metadata": {},
   "outputs": [],
   "source": [
    "import pandas as pd\n",
    "\n",
    "from pyspark import SparkContext, SparkConf\n",
    "from pyspark.sql import SparkSession, SQLContext\n",
    "from pyspark.sql.functions import round"
   ]
  },
  {
   "cell_type": "code",
   "execution_count": 2,
   "metadata": {},
   "outputs": [],
   "source": [
    "context = SparkContext()"
   ]
  },
  {
   "cell_type": "code",
   "execution_count": 3,
   "metadata": {},
   "outputs": [],
   "source": [
    "data = pd.read_csv(\"insurance.csv\")"
   ]
  },
  {
   "cell_type": "code",
   "execution_count": 4,
   "metadata": {},
   "outputs": [
    {
     "name": "stderr",
     "output_type": "stream",
     "text": [
      "/Users/mh067948/miniconda3/lib/python3.7/site-packages/pyspark/sql/context.py:79: FutureWarning: Deprecated in 3.0.0. Use SparkSession.builder.getOrCreate() instead.\n",
      "  FutureWarning\n"
     ]
    }
   ],
   "source": [
    "sqlcontext = SQLContext(context)"
   ]
  },
  {
   "cell_type": "code",
   "execution_count": 5,
   "metadata": {},
   "outputs": [],
   "source": [
    "insurance_df = sqlcontext.createDataFrame(data)"
   ]
  },
  {
   "cell_type": "code",
   "execution_count": 6,
   "metadata": {},
   "outputs": [
    {
     "data": {
      "text/plain": [
       "12"
      ]
     },
     "execution_count": 6,
     "metadata": {},
     "output_type": "execute_result"
    }
   ],
   "source": [
    "insurance_df.rdd.getNumPartitions()"
   ]
  },
  {
   "cell_type": "code",
   "execution_count": 7,
   "metadata": {},
   "outputs": [
    {
     "name": "stdout",
     "output_type": "stream",
     "text": [
      "+---+------+------+--------+------+---------+------------------+\n",
      "|age|   sex|   bmi|children|smoker|   region|           charges|\n",
      "+---+------+------+--------+------+---------+------------------+\n",
      "| 19|female|  27.9|       0|   yes|southwest|         16884.924|\n",
      "| 18|  male| 33.77|       1|    no|southeast|         1725.5523|\n",
      "| 28|  male|  33.0|       3|    no|southeast|          4449.462|\n",
      "| 33|  male|22.705|       0|    no|northwest|       21984.47061|\n",
      "| 32|  male| 28.88|       0|    no|northwest|         3866.8552|\n",
      "| 31|female| 25.74|       0|    no|southeast|         3756.6216|\n",
      "| 46|female| 33.44|       1|    no|southeast|         8240.5896|\n",
      "| 37|female| 27.74|       3|    no|northwest|         7281.5056|\n",
      "| 37|  male| 29.83|       2|    no|northeast|         6406.4107|\n",
      "| 60|female| 25.84|       0|    no|northwest|28923.136919999997|\n",
      "| 25|  male| 26.22|       0|    no|northeast|         2721.3208|\n",
      "| 62|female| 26.29|       0|   yes|southeast|        27808.7251|\n",
      "| 23|  male|  34.4|       0|    no|southwest|1826.8429999999998|\n",
      "| 56|female| 39.82|       0|    no|southeast|        11090.7178|\n",
      "| 27|  male| 42.13|       0|   yes|southeast|        39611.7577|\n",
      "| 19|  male|  24.6|       1|    no|southwest|          1837.237|\n",
      "| 52|female| 30.78|       1|    no|northeast|        10797.3362|\n",
      "| 23|  male|23.845|       0|    no|northeast|        2395.17155|\n",
      "| 56|  male|  40.3|       0|    no|southwest|         10602.385|\n",
      "| 30|  male|  35.3|       0|   yes|southwest|36837.467000000004|\n",
      "+---+------+------+--------+------+---------+------------------+\n",
      "only showing top 20 rows\n",
      "\n"
     ]
    }
   ],
   "source": [
    "insurance_df.show()"
   ]
  },
  {
   "cell_type": "code",
   "execution_count": 8,
   "metadata": {},
   "outputs": [
    {
     "data": {
      "text/plain": [
       "1338"
      ]
     },
     "execution_count": 8,
     "metadata": {},
     "output_type": "execute_result"
    }
   ],
   "source": [
    "insurance_df.count()"
   ]
  },
  {
   "cell_type": "code",
   "execution_count": 9,
   "metadata": {},
   "outputs": [
    {
     "name": "stdout",
     "output_type": "stream",
     "text": [
      "+---+------+------+\n",
      "|age|   sex|smoker|\n",
      "+---+------+------+\n",
      "| 19|female|   yes|\n",
      "| 18|  male|    no|\n",
      "| 28|  male|    no|\n",
      "| 33|  male|    no|\n",
      "| 32|  male|    no|\n",
      "| 31|female|    no|\n",
      "| 46|female|    no|\n",
      "| 37|female|    no|\n",
      "| 37|  male|    no|\n",
      "| 60|female|    no|\n",
      "| 25|  male|    no|\n",
      "| 62|female|   yes|\n",
      "| 23|  male|    no|\n",
      "| 56|female|    no|\n",
      "| 27|  male|   yes|\n",
      "| 19|  male|    no|\n",
      "| 52|female|    no|\n",
      "| 23|  male|    no|\n",
      "| 56|  male|    no|\n",
      "| 30|  male|   yes|\n",
      "+---+------+------+\n",
      "only showing top 20 rows\n",
      "\n"
     ]
    }
   ],
   "source": [
    "insurance_df.select('age', 'sex', 'smoker').show()"
   ]
  },
  {
   "cell_type": "code",
   "execution_count": 10,
   "metadata": {},
   "outputs": [
    {
     "name": "stdout",
     "output_type": "stream",
     "text": [
      "+-------+------------------+------+-----------------+------------------+------+---------+------------------+\n",
      "|summary|               age|   sex|              bmi|          children|smoker|   region|           charges|\n",
      "+-------+------------------+------+-----------------+------------------+------+---------+------------------+\n",
      "|  count|              1338|  1338|             1338|              1338|  1338|     1338|              1338|\n",
      "|   mean| 39.20702541106129|  null|30.66339686098655|   1.0949177877429|  null|     null|13270.422265141257|\n",
      "| stddev|14.049960379216154|  null|6.098186911679014|1.2054927397819137|  null|     null|12110.011236694001|\n",
      "|    min|                18|female|            15.96|                 0|    no|northeast|         1121.8739|\n",
      "|    max|                64|  male|            53.13|                 5|   yes|southwest|       63770.42801|\n",
      "+-------+------------------+------+-----------------+------------------+------+---------+------------------+\n",
      "\n"
     ]
    }
   ],
   "source": [
    "insurance_df.describe().show()"
   ]
  },
  {
   "cell_type": "code",
   "execution_count": 23,
   "metadata": {},
   "outputs": [
    {
     "name": "stdout",
     "output_type": "stream",
     "text": [
      "+------+\n",
      "|   sex|\n",
      "+------+\n",
      "|female|\n",
      "|  male|\n",
      "+------+\n",
      "\n"
     ]
    }
   ],
   "source": [
    "insurance_df.select('sex').distinct().show()"
   ]
  },
  {
   "cell_type": "code",
   "execution_count": 24,
   "metadata": {},
   "outputs": [
    {
     "name": "stdout",
     "output_type": "stream",
     "text": [
      "+----------+---+---+\n",
      "|sex_smoker|yes| no|\n",
      "+----------+---+---+\n",
      "|      male|159|517|\n",
      "|    female|115|547|\n",
      "+----------+---+---+\n",
      "\n"
     ]
    }
   ],
   "source": [
    "insurance_df.crosstab('sex', 'smoker')\\\n",
    "            .select('sex_smoker','yes','no')\\\n",
    "            .show()"
   ]
  },
  {
   "cell_type": "code",
   "execution_count": 26,
   "metadata": {},
   "outputs": [
    {
     "name": "stdout",
     "output_type": "stream",
     "text": [
      "+---+------+------+---------+------------------+\n",
      "|age|gender|   bmi|   region|           charges|\n",
      "+---+------+------+---------+------------------+\n",
      "| 60|female| 25.84|northwest|28923.136919999997|\n",
      "| 62|female| 26.29|southeast|        27808.7251|\n",
      "| 56|female| 39.82|southeast|        11090.7178|\n",
      "| 52|female| 30.78|northeast|        10797.3362|\n",
      "| 56|  male|  40.3|southwest|         10602.385|\n",
      "| 60|female|36.005|northeast|       13228.84695|\n",
      "| 59|female| 27.72|southeast|        14001.1338|\n",
      "| 63|female|23.085|northeast|       14451.83515|\n",
      "| 55|female|32.775|northwest|       12268.63225|\n",
      "| 63|  male| 28.31|northwest|        13770.0979|\n",
      "+---+------+------+---------+------------------+\n",
      "\n"
     ]
    }
   ],
   "source": [
    "insurance_df.select('age','sex','bmi','region','charges')\\\n",
    "            .where(insurance_df['age'] > 50)\\\n",
    "            .withColumnRenamed('sex','gender')\\\n",
    "            .limit(10)\\\n",
    "            .show()"
   ]
  },
  {
   "cell_type": "code",
   "execution_count": 27,
   "metadata": {},
   "outputs": [
    {
     "name": "stdout",
     "output_type": "stream",
     "text": [
      "+------+-----+\n",
      "|   sex|count|\n",
      "+------+-----+\n",
      "|female|  662|\n",
      "|  male|  676|\n",
      "+------+-----+\n",
      "\n"
     ]
    }
   ],
   "source": [
    "insurance_df.groupBy('sex')\\\n",
    "            .count()\\\n",
    "            .show()"
   ]
  },
  {
   "cell_type": "code",
   "execution_count": 49,
   "metadata": {},
   "outputs": [
    {
     "name": "stdout",
     "output_type": "stream",
     "text": [
      "+------+------+-----+\n",
      "|   sex|smoker| prop|\n",
      "+------+------+-----+\n",
      "|female|   yes| 8.59|\n",
      "|female|    no|40.88|\n",
      "+------+------+-----+\n",
      "\n"
     ]
    }
   ],
   "source": [
    "gdc = insurance_df.groupBy('sex', 'smoker')\\\n",
    "            .count()\\\n",
    "            .withColumnRenamed('count','total')\n",
    "\n",
    "prop = gdc\\\n",
    "        .withColumn('prop', round(gdc.total/insurance_df.count() * 100,2))\\\n",
    "        .drop('total')\\\n",
    "        .where(gdc['sex'] == 'female')\\\n",
    "        .show()"
   ]
  },
  {
   "cell_type": "code",
   "execution_count": 43,
   "metadata": {},
   "outputs": [
    {
     "name": "stdout",
     "output_type": "stream",
     "text": [
      "+------+------+-----------------+----------+\n",
      "|smoker|   sex|      avg_charges|smoker_cnt|\n",
      "+------+------+-----------------+----------+\n",
      "|    no|female|8762.297299541135|       547|\n",
      "|   yes|female|30678.99627626087|       115|\n",
      "|   yes|  male|33042.00597528302|       159|\n",
      "|    no|  male|8087.204731276594|       517|\n",
      "+------+------+-----------------+----------+\n",
      "\n"
     ]
    }
   ],
   "source": [
    "cbs = insurance_df.groupBy('smoker','sex')\\\n",
    "            .agg({'charges':'avg', 'smoker':'count'})\\\n",
    "            .withColumnRenamed('avg(charges)','avg_charges')\\\n",
    "            .withColumnRenamed('count(smoker)','smoker_cnt')\\\n",
    "            .show()"
   ]
  },
  {
   "cell_type": "code",
   "execution_count": null,
   "metadata": {},
   "outputs": [],
   "source": []
  }
 ],
 "metadata": {
  "kernelspec": {
   "display_name": "Python 3",
   "language": "python",
   "name": "python3"
  },
  "language_info": {
   "codemirror_mode": {
    "name": "ipython",
    "version": 3
   },
   "file_extension": ".py",
   "mimetype": "text/x-python",
   "name": "python",
   "nbconvert_exporter": "python",
   "pygments_lexer": "ipython3",
   "version": "3.7.1"
  }
 },
 "nbformat": 4,
 "nbformat_minor": 4
}
